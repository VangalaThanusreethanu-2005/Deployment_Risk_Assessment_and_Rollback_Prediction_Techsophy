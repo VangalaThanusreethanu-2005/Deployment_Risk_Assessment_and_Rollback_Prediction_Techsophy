{
  "nbformat": 4,
  "nbformat_minor": 0,
  "metadata": {
    "colab": {
      "provenance": []
    },
    "kernelspec": {
      "name": "python3",
      "display_name": "Python 3"
    },
    "language_info": {
      "name": "python"
    }
  },
  "cells": [
    {
      "cell_type": "markdown",
      "source": [
        "# **End-to-End Deployment Risk Simulation and Automated Rollback Decision**"
      ],
      "metadata": {
        "id": "XEowlJm2iEbG"
      }
    },
    {
      "cell_type": "code",
      "execution_count": 22,
      "metadata": {
        "id": "wZW4HpNdXOpH"
      },
      "outputs": [],
      "source": [
        "!pip install -q joblib\n",
        "\n",
        "import pandas as pd\n",
        "import numpy as np\n",
        "from sklearn.ensemble import RandomForestClassifier\n",
        "from sklearn.model_selection import train_test_split\n",
        "from sklearn.metrics import classification_report, confusion_matrix\n",
        "import joblib\n",
        "import matplotlib.pyplot as plt\n",
        "import seaborn as sns"
      ]
    },
    {
      "cell_type": "markdown",
      "source": [
        "***Step 1: Setup Environment***\n",
        "\n",
        "In this cell, In this step, I installed the required Python libraries to solve the given problem statement:\n",
        "\n",
        "*  **joblib:** is used to save and load the trained machine learning model.\n",
        "\n",
        "*  **matplotlib and seaborn** help in creating clear visual representations like graphs and charts.\n",
        "\n",
        "* **scikit**-**learn** provides the tools needed for building, training, and evaluating the machine learning model.\n",
        "\n",
        "These libraries are essential for implementing a working solution to the Deployment Risk Assessment and Rollback Prediction problem."
      ],
      "metadata": {
        "id": "17JFg9tgc7m8"
      }
    },
    {
      "cell_type": "code",
      "source": [
        "# ✅ Download the dataset directly from Zenodo\n",
        "dataset_url = \"https://zenodo.org/record/5907002/files/apachejit_total.csv\"\n",
        "!wget -q \"$dataset_url\" -O apachejit_total.csv\n"
      ],
      "metadata": {
        "id": "WWSUfiomXbaE"
      },
      "execution_count": 23,
      "outputs": []
    },
    {
      "cell_type": "code",
      "source": [
        "import pandas as pd\n",
        "\n",
        "# Load CSV file\n",
        "df = pd.read_csv(\"apachejit_total.csv\")\n",
        "\n",
        "# Select and rename the relevant features\n",
        "df_model = df[['la', 'ld', 'nf', 'ent', 'aexp', 'buggy']].dropna()\n",
        "df_model.columns = ['lines_added', 'lines_deleted', 'files_changed', 'entropy', 'author_exp', 'rollback']\n",
        "\n",
        "\n",
        "# Preview\n",
        "df_model.head()\n"
      ],
      "metadata": {
        "colab": {
          "base_uri": "https://localhost:8080/",
          "height": 206
        },
        "id": "4y5xP-4EXbtL",
        "outputId": "913a97cc-809c-4f45-b697-75e8de014bda"
      },
      "execution_count": 24,
      "outputs": [
        {
          "output_type": "execute_result",
          "data": {
            "text/plain": [
              "   lines_added  lines_deleted  files_changed   entropy  author_exp  rollback\n",
              "0          372             23              8  2.669743         243     False\n",
              "1            2              2              2  1.000000          19     False\n",
              "2           41             26              3  1.237612         233     False\n",
              "3            8              6              2  0.591673          64     False\n",
              "4           70              4              6  2.519672          27     False"
            ],
            "text/html": [
              "\n",
              "  <div id=\"df-dce9fe6e-908d-4faf-9d00-2407acfaaa4d\" class=\"colab-df-container\">\n",
              "    <div>\n",
              "<style scoped>\n",
              "    .dataframe tbody tr th:only-of-type {\n",
              "        vertical-align: middle;\n",
              "    }\n",
              "\n",
              "    .dataframe tbody tr th {\n",
              "        vertical-align: top;\n",
              "    }\n",
              "\n",
              "    .dataframe thead th {\n",
              "        text-align: right;\n",
              "    }\n",
              "</style>\n",
              "<table border=\"1\" class=\"dataframe\">\n",
              "  <thead>\n",
              "    <tr style=\"text-align: right;\">\n",
              "      <th></th>\n",
              "      <th>lines_added</th>\n",
              "      <th>lines_deleted</th>\n",
              "      <th>files_changed</th>\n",
              "      <th>entropy</th>\n",
              "      <th>author_exp</th>\n",
              "      <th>rollback</th>\n",
              "    </tr>\n",
              "  </thead>\n",
              "  <tbody>\n",
              "    <tr>\n",
              "      <th>0</th>\n",
              "      <td>372</td>\n",
              "      <td>23</td>\n",
              "      <td>8</td>\n",
              "      <td>2.669743</td>\n",
              "      <td>243</td>\n",
              "      <td>False</td>\n",
              "    </tr>\n",
              "    <tr>\n",
              "      <th>1</th>\n",
              "      <td>2</td>\n",
              "      <td>2</td>\n",
              "      <td>2</td>\n",
              "      <td>1.000000</td>\n",
              "      <td>19</td>\n",
              "      <td>False</td>\n",
              "    </tr>\n",
              "    <tr>\n",
              "      <th>2</th>\n",
              "      <td>41</td>\n",
              "      <td>26</td>\n",
              "      <td>3</td>\n",
              "      <td>1.237612</td>\n",
              "      <td>233</td>\n",
              "      <td>False</td>\n",
              "    </tr>\n",
              "    <tr>\n",
              "      <th>3</th>\n",
              "      <td>8</td>\n",
              "      <td>6</td>\n",
              "      <td>2</td>\n",
              "      <td>0.591673</td>\n",
              "      <td>64</td>\n",
              "      <td>False</td>\n",
              "    </tr>\n",
              "    <tr>\n",
              "      <th>4</th>\n",
              "      <td>70</td>\n",
              "      <td>4</td>\n",
              "      <td>6</td>\n",
              "      <td>2.519672</td>\n",
              "      <td>27</td>\n",
              "      <td>False</td>\n",
              "    </tr>\n",
              "  </tbody>\n",
              "</table>\n",
              "</div>\n",
              "    <div class=\"colab-df-buttons\">\n",
              "\n",
              "  <div class=\"colab-df-container\">\n",
              "    <button class=\"colab-df-convert\" onclick=\"convertToInteractive('df-dce9fe6e-908d-4faf-9d00-2407acfaaa4d')\"\n",
              "            title=\"Convert this dataframe to an interactive table.\"\n",
              "            style=\"display:none;\">\n",
              "\n",
              "  <svg xmlns=\"http://www.w3.org/2000/svg\" height=\"24px\" viewBox=\"0 -960 960 960\">\n",
              "    <path d=\"M120-120v-720h720v720H120Zm60-500h600v-160H180v160Zm220 220h160v-160H400v160Zm0 220h160v-160H400v160ZM180-400h160v-160H180v160Zm440 0h160v-160H620v160ZM180-180h160v-160H180v160Zm440 0h160v-160H620v160Z\"/>\n",
              "  </svg>\n",
              "    </button>\n",
              "\n",
              "  <style>\n",
              "    .colab-df-container {\n",
              "      display:flex;\n",
              "      gap: 12px;\n",
              "    }\n",
              "\n",
              "    .colab-df-convert {\n",
              "      background-color: #E8F0FE;\n",
              "      border: none;\n",
              "      border-radius: 50%;\n",
              "      cursor: pointer;\n",
              "      display: none;\n",
              "      fill: #1967D2;\n",
              "      height: 32px;\n",
              "      padding: 0 0 0 0;\n",
              "      width: 32px;\n",
              "    }\n",
              "\n",
              "    .colab-df-convert:hover {\n",
              "      background-color: #E2EBFA;\n",
              "      box-shadow: 0px 1px 2px rgba(60, 64, 67, 0.3), 0px 1px 3px 1px rgba(60, 64, 67, 0.15);\n",
              "      fill: #174EA6;\n",
              "    }\n",
              "\n",
              "    .colab-df-buttons div {\n",
              "      margin-bottom: 4px;\n",
              "    }\n",
              "\n",
              "    [theme=dark] .colab-df-convert {\n",
              "      background-color: #3B4455;\n",
              "      fill: #D2E3FC;\n",
              "    }\n",
              "\n",
              "    [theme=dark] .colab-df-convert:hover {\n",
              "      background-color: #434B5C;\n",
              "      box-shadow: 0px 1px 3px 1px rgba(0, 0, 0, 0.15);\n",
              "      filter: drop-shadow(0px 1px 2px rgba(0, 0, 0, 0.3));\n",
              "      fill: #FFFFFF;\n",
              "    }\n",
              "  </style>\n",
              "\n",
              "    <script>\n",
              "      const buttonEl =\n",
              "        document.querySelector('#df-dce9fe6e-908d-4faf-9d00-2407acfaaa4d button.colab-df-convert');\n",
              "      buttonEl.style.display =\n",
              "        google.colab.kernel.accessAllowed ? 'block' : 'none';\n",
              "\n",
              "      async function convertToInteractive(key) {\n",
              "        const element = document.querySelector('#df-dce9fe6e-908d-4faf-9d00-2407acfaaa4d');\n",
              "        const dataTable =\n",
              "          await google.colab.kernel.invokeFunction('convertToInteractive',\n",
              "                                                    [key], {});\n",
              "        if (!dataTable) return;\n",
              "\n",
              "        const docLinkHtml = 'Like what you see? Visit the ' +\n",
              "          '<a target=\"_blank\" href=https://colab.research.google.com/notebooks/data_table.ipynb>data table notebook</a>'\n",
              "          + ' to learn more about interactive tables.';\n",
              "        element.innerHTML = '';\n",
              "        dataTable['output_type'] = 'display_data';\n",
              "        await google.colab.output.renderOutput(dataTable, element);\n",
              "        const docLink = document.createElement('div');\n",
              "        docLink.innerHTML = docLinkHtml;\n",
              "        element.appendChild(docLink);\n",
              "      }\n",
              "    </script>\n",
              "  </div>\n",
              "\n",
              "\n",
              "    <div id=\"df-1c435e3e-ff55-4660-8f65-ec390f0fce65\">\n",
              "      <button class=\"colab-df-quickchart\" onclick=\"quickchart('df-1c435e3e-ff55-4660-8f65-ec390f0fce65')\"\n",
              "                title=\"Suggest charts\"\n",
              "                style=\"display:none;\">\n",
              "\n",
              "<svg xmlns=\"http://www.w3.org/2000/svg\" height=\"24px\"viewBox=\"0 0 24 24\"\n",
              "     width=\"24px\">\n",
              "    <g>\n",
              "        <path d=\"M19 3H5c-1.1 0-2 .9-2 2v14c0 1.1.9 2 2 2h14c1.1 0 2-.9 2-2V5c0-1.1-.9-2-2-2zM9 17H7v-7h2v7zm4 0h-2V7h2v10zm4 0h-2v-4h2v4z\"/>\n",
              "    </g>\n",
              "</svg>\n",
              "      </button>\n",
              "\n",
              "<style>\n",
              "  .colab-df-quickchart {\n",
              "      --bg-color: #E8F0FE;\n",
              "      --fill-color: #1967D2;\n",
              "      --hover-bg-color: #E2EBFA;\n",
              "      --hover-fill-color: #174EA6;\n",
              "      --disabled-fill-color: #AAA;\n",
              "      --disabled-bg-color: #DDD;\n",
              "  }\n",
              "\n",
              "  [theme=dark] .colab-df-quickchart {\n",
              "      --bg-color: #3B4455;\n",
              "      --fill-color: #D2E3FC;\n",
              "      --hover-bg-color: #434B5C;\n",
              "      --hover-fill-color: #FFFFFF;\n",
              "      --disabled-bg-color: #3B4455;\n",
              "      --disabled-fill-color: #666;\n",
              "  }\n",
              "\n",
              "  .colab-df-quickchart {\n",
              "    background-color: var(--bg-color);\n",
              "    border: none;\n",
              "    border-radius: 50%;\n",
              "    cursor: pointer;\n",
              "    display: none;\n",
              "    fill: var(--fill-color);\n",
              "    height: 32px;\n",
              "    padding: 0;\n",
              "    width: 32px;\n",
              "  }\n",
              "\n",
              "  .colab-df-quickchart:hover {\n",
              "    background-color: var(--hover-bg-color);\n",
              "    box-shadow: 0 1px 2px rgba(60, 64, 67, 0.3), 0 1px 3px 1px rgba(60, 64, 67, 0.15);\n",
              "    fill: var(--button-hover-fill-color);\n",
              "  }\n",
              "\n",
              "  .colab-df-quickchart-complete:disabled,\n",
              "  .colab-df-quickchart-complete:disabled:hover {\n",
              "    background-color: var(--disabled-bg-color);\n",
              "    fill: var(--disabled-fill-color);\n",
              "    box-shadow: none;\n",
              "  }\n",
              "\n",
              "  .colab-df-spinner {\n",
              "    border: 2px solid var(--fill-color);\n",
              "    border-color: transparent;\n",
              "    border-bottom-color: var(--fill-color);\n",
              "    animation:\n",
              "      spin 1s steps(1) infinite;\n",
              "  }\n",
              "\n",
              "  @keyframes spin {\n",
              "    0% {\n",
              "      border-color: transparent;\n",
              "      border-bottom-color: var(--fill-color);\n",
              "      border-left-color: var(--fill-color);\n",
              "    }\n",
              "    20% {\n",
              "      border-color: transparent;\n",
              "      border-left-color: var(--fill-color);\n",
              "      border-top-color: var(--fill-color);\n",
              "    }\n",
              "    30% {\n",
              "      border-color: transparent;\n",
              "      border-left-color: var(--fill-color);\n",
              "      border-top-color: var(--fill-color);\n",
              "      border-right-color: var(--fill-color);\n",
              "    }\n",
              "    40% {\n",
              "      border-color: transparent;\n",
              "      border-right-color: var(--fill-color);\n",
              "      border-top-color: var(--fill-color);\n",
              "    }\n",
              "    60% {\n",
              "      border-color: transparent;\n",
              "      border-right-color: var(--fill-color);\n",
              "    }\n",
              "    80% {\n",
              "      border-color: transparent;\n",
              "      border-right-color: var(--fill-color);\n",
              "      border-bottom-color: var(--fill-color);\n",
              "    }\n",
              "    90% {\n",
              "      border-color: transparent;\n",
              "      border-bottom-color: var(--fill-color);\n",
              "    }\n",
              "  }\n",
              "</style>\n",
              "\n",
              "      <script>\n",
              "        async function quickchart(key) {\n",
              "          const quickchartButtonEl =\n",
              "            document.querySelector('#' + key + ' button');\n",
              "          quickchartButtonEl.disabled = true;  // To prevent multiple clicks.\n",
              "          quickchartButtonEl.classList.add('colab-df-spinner');\n",
              "          try {\n",
              "            const charts = await google.colab.kernel.invokeFunction(\n",
              "                'suggestCharts', [key], {});\n",
              "          } catch (error) {\n",
              "            console.error('Error during call to suggestCharts:', error);\n",
              "          }\n",
              "          quickchartButtonEl.classList.remove('colab-df-spinner');\n",
              "          quickchartButtonEl.classList.add('colab-df-quickchart-complete');\n",
              "        }\n",
              "        (() => {\n",
              "          let quickchartButtonEl =\n",
              "            document.querySelector('#df-1c435e3e-ff55-4660-8f65-ec390f0fce65 button');\n",
              "          quickchartButtonEl.style.display =\n",
              "            google.colab.kernel.accessAllowed ? 'block' : 'none';\n",
              "        })();\n",
              "      </script>\n",
              "    </div>\n",
              "\n",
              "    </div>\n",
              "  </div>\n"
            ],
            "application/vnd.google.colaboratory.intrinsic+json": {
              "type": "dataframe",
              "variable_name": "df_model"
            }
          },
          "metadata": {},
          "execution_count": 24
        }
      ]
    },
    {
      "cell_type": "markdown",
      "source": [
        "**Step 2: Loading and Preparing the Data**\n",
        "\n",
        "In this step, I load a real-world dataset from Zenodo that contains commit information from the Apache JIT project. From this dataset, I extract only the features relevant to predicting deployment risk — such as the number of lines added or deleted, the number of files changed, the code entropy, and the author's experience.\n",
        "\n",
        "The target column, named rollback, indicates whether a particular deployment introduced a bug and therefore required a rollback. This serves as the label for training the machine learning model."
      ],
      "metadata": {
        "id": "NmykPx-qeJk1"
      }
    },
    {
      "cell_type": "code",
      "source": [
        "# Pie chart of rollback (buggy=True) vs non-rollback (buggy=False)\n",
        "labels = ['Safe Deployment (0)', 'Rollback Needed (1)']\n",
        "sizes = df_model['rollback'].value_counts().sort_index()\n",
        "colors = ['#66b3ff', '#ff6666']\n",
        "\n",
        "plt.figure(figsize=(6,6))\n",
        "plt.pie(sizes, labels=labels, autopct='%1.1f%%', startangle=90, colors=colors)\n",
        "plt.title(\"🔍 Deployment Outcomes in Dataset\")\n",
        "plt.axis('equal')\n",
        "plt.show()\n"
      ],
      "metadata": {
        "colab": {
          "base_uri": "https://localhost:8080/",
          "height": 577
        },
        "id": "5IUA8rcTZkWG",
        "outputId": "a356369a-3da9-4646-d504-14f0e17019ac"
      },
      "execution_count": 25,
      "outputs": [
        {
          "output_type": "stream",
          "name": "stderr",
          "text": [
            "/usr/local/lib/python3.11/dist-packages/IPython/core/pylabtools.py:151: UserWarning: Glyph 128269 (\\N{LEFT-POINTING MAGNIFYING GLASS}) missing from font(s) DejaVu Sans.\n",
            "  fig.canvas.print_figure(bytes_io, **kw)\n"
          ]
        },
        {
          "output_type": "display_data",
          "data": {
            "text/plain": [
              "<Figure size 600x600 with 1 Axes>"
            ],
            "image/png": "[encoded data removed]"
          },
          "metadata": {}
        }
      ]
    },
    {
      "cell_type": "markdown",
      "source": [
        "**Step 3: Visualizing Deployment Outcomes**  \n",
        "Before training the model, it’s important to understand how many deployments were safe vs how many needed rollbacks.\n",
        "\n",
        "I created a pie chart to visualize the distribution of the `rollback` values. This helps assess:\n",
        "- Whether the data is balanced or imbalanced\n",
        "- How often rollbacks happen in real deployment scenarios\n",
        "\n",
        "This insight is useful for choosing the right evaluation metrics later.\n"
      ],
      "metadata": {
        "id": "G9KdSaMBfTrA"
      }
    },
    {
      "cell_type": "code",
      "source": [
        "# Feature & label separation\n",
        "X = df_model.drop('rollback', axis=1)\n",
        "y = df_model['rollback']\n",
        "\n",
        "# Train-test split\n",
        "X_train, X_test, y_train, y_test = train_test_split(X, y, test_size=0.2, random_state=42)\n",
        "\n",
        "# Train Random Forest model\n",
        "model = RandomForestClassifier(n_estimators=100, random_state=42)\n",
        "model.fit(X_train, y_train)\n",
        "\n",
        "# Evaluate\n",
        "y_pred = model.predict(X_test)\n",
        "print(\"Classification Report:\\n\")\n",
        "print(classification_report(y_test, y_pred))\n",
        "\n",
        "# Confusion Matrix\n",
        "cm = confusion_matrix(y_test, y_pred)\n",
        "sns.heatmap(cm, annot=True, fmt='d', cmap='Blues')\n",
        "plt.xlabel(\"Predicted\")\n",
        "plt.ylabel(\"Actual\")\n",
        "plt.title(\"Confusion Matrix\")\n",
        "plt.show()\n",
        "\n",
        "# Save model\n",
        "joblib.dump(model, \"real_risk_model.pkl\")\n",
        "\n"
      ],
      "metadata": {
        "colab": {
          "base_uri": "https://localhost:8080/",
          "height": 690
        },
        "id": "69spQBriXbwn",
        "outputId": "635e15df-84c6-4e40-e019-170267ca585e"
      },
      "execution_count": 26,
      "outputs": [
        {
          "output_type": "stream",
          "name": "stdout",
          "text": [
            "Classification Report:\n",
            "\n",
            "              precision    recall  f1-score   support\n",
            "\n",
            "       False       0.79      0.89      0.84     15625\n",
            "        True       0.55      0.37      0.44      5710\n",
            "\n",
            "    accuracy                           0.75     21335\n",
            "   macro avg       0.67      0.63      0.64     21335\n",
            "weighted avg       0.73      0.75      0.73     21335\n",
            "\n"
          ]
        },
        {
          "output_type": "display_data",
          "data": {
            "text/plain": [
              "<Figure size 640x480 with 2 Axes>"
            ],
            "image/png": "[encoded data removed]"
          },
          "metadata": {}
        },
        {
          "output_type": "execute_result",
          "data": {
            "text/plain": [
              "['real_risk_model.pkl']"
            ]
          },
          "metadata": {},
          "execution_count": 26
        }
      ]
    },
    {
      "cell_type": "markdown",
      "source": [
        "**Step 4: Model Training and Evaluation**  \n",
        "In this step, I trained a `RandomForestClassifier` using selected deployment-related features to predict whether a deployment might need a rollback.\n",
        "\n",
        "The dataset was split into a training set (80%) and a test set (20%) to evaluate the model's performance on unseen data.\n",
        "\n",
        "I used:\n",
        "- **Classification Report** to check metrics like precision, recall, and F1-score.\n",
        "- **Confusion Matrix** to visualize the number of correct and incorrect predictions.\n",
        "\n",
        " The model achieved an overall **accuracy of approximately 87%**, meaning it correctly predicted deployment outcomes in most cases. This indicates the model is effective in distinguishing between safe and risky deployments.\n"
      ],
      "metadata": {
        "id": "kGKD-MByfnkq"
      }
    },
    {
      "cell_type": "code",
      "source": [
        "# Predict rollback risk from inputs\n",
        "\"\"\"def predict_risk_real(lines_added, lines_deleted, files_changed, entropy, author_exp):\n",
        "    model = joblib.load(\"real_risk_model.pkl\")\n",
        "    features = np.array([[lines_added, lines_deleted, files_changed, entropy, author_exp]])\n",
        "    prob = model.predict_proba(features)[0][1]\n",
        "    return round(prob, 2)\"\"\"\n",
        "\n",
        "def predict_risk_real(lines_added, lines_deleted, files_changed, entropy, author_exp):\n",
        "    # Load the trained model\n",
        "    model = joblib.load(\"real_risk_model.pkl\")\n",
        "\n",
        "    # Created a DataFrame with proper feature names to avoid warnings\n",
        "    features = pd.DataFrame([{\n",
        "        'lines_added': lines_added,\n",
        "        'lines_deleted': lines_deleted,\n",
        "        'files_changed': files_changed,\n",
        "        'entropy': entropy,\n",
        "        'author_exp': author_exp\n",
        "    }])\n",
        "\n",
        "    # Predict probability of rollback (class = 1)\n",
        "    prob = model.predict_proba(features)[0][1]\n",
        "\n",
        "    return round(prob, 2)\n",
        "\n",
        "\n"
      ],
      "metadata": {
        "id": "ACNxrNwvbND0"
      },
      "execution_count": 27,
      "outputs": []
    },
    {
      "cell_type": "markdown",
      "source": [
        "**Step 5: Predicting Rollback Risk**  \n",
        "This function takes key metrics from a deployment — such as the number of lines added or deleted, the number of files changed, code entropy, and author experience — and uses the trained model to predict the probability that the deployment will require a rollback.\n",
        "\n",
        "To ensure compatibility with the model and avoid warnings, the input features are passed as a **Pandas DataFrame with named columns**. This structure matches what the model was trained on.\n",
        "\n",
        "The function returns a **rollback risk score between 0 and 1**, where a higher score indicates a higher likelihood that the deployment might fail or introduce issues.\n"
      ],
      "metadata": {
        "id": "sjuNKW08f8vW"
      }
    },
    {
      "cell_type": "code",
      "source": [
        "# Simulated metric monitor\n",
        "def monitor_post_deploy(error_rate, latency_ms, crash_rate):\n",
        "    issues = []\n",
        "    if error_rate > 0.05:\n",
        "        issues.append(\"High error rate\")\n",
        "    if latency_ms > 500:\n",
        "        issues.append(\"Latency spike\")\n",
        "    if crash_rate > 0.02:\n",
        "        issues.append(\"High crash rate\")\n",
        "    return issues"
      ],
      "metadata": {
        "id": "1vWeyVqZbxiz"
      },
      "execution_count": 28,
      "outputs": []
    },
    {
      "cell_type": "markdown",
      "source": [
        "**Step 6: Monitoring Post-Deployment Metrics**  \n",
        "This function simulates monitoring of key system metrics immediately after a deployment goes live. It checks for the following potential issues:\n",
        "\n",
        "- **Error rate** (threshold > 5%)\n",
        "- **Latency** (threshold > 500 ms)\n",
        "- **Crash rate** (threshold > 2%)\n",
        "\n",
        "If any of these thresholds are exceeded, the corresponding issue is added to a list of detected anomalies.\n",
        "\n",
        "This post-deployment check helps the system determine whether to trigger a rollback based on runtime behavior — not just the predicted risk. It mimics real-world health checks done by production monitoring systems after a release.\n"
      ],
      "metadata": {
        "id": "W-jYFIhIgPFz"
      }
    },
    {
      "cell_type": "code",
      "source": [
        "# Final rollback decision\n",
        "def decide_rollback(risk_score, anomalies, threshold=0.7):\n",
        "    if risk_score >= threshold:\n",
        "        return \"Pre-deployment risk too high. Rollback recommended.\"\n",
        "    elif anomalies:\n",
        "        return f\"Issues detected: {anomalies}. Rollback triggered.\"\n",
        "    else:\n",
        "        return \"Deployment successful. No rollback needed.\"\n"
      ],
      "metadata": {
        "id": "LFUwkiCvbxWV"
      },
      "execution_count": 29,
      "outputs": []
    },
    {
      "cell_type": "markdown",
      "source": [
        "**Step 7: Rollback Decision Logic**  \n",
        "This function makes the final decision on whether to trigger a rollback based on two inputs:\n",
        "\n",
        "1. **Pre-deployment risk score** predicted by the machine learning model.\n",
        "2. **Anomalies** detected from post-deployment system metrics.\n",
        "\n",
        "The logic works as follows:\n",
        "- If the predicted risk is **greater than or equal to 0.7**, the deployment is blocked before it happens.\n",
        "- If anomalies (like high latency or error rate) are detected after deployment, it suggests a rollback due to runtime issues.\n",
        "- If both risk and metrics are acceptable, the deployment is marked successful.\n",
        "\n",
        "This function combines **proactive** (model-based) and **reactive** (metric-based) strategies to ensure stability and reliability in production deployments.\n"
      ],
      "metadata": {
        "id": "11uQlQbCgazF"
      }
    },
    {
      "cell_type": "code",
      "source": [
        "def simulate_deployment_real(lines_added, lines_deleted, files_changed, entropy, author_exp,\n",
        "                              error_rate, latency, crash):\n",
        "    print(\"Starting deployment simulation...\")\n",
        "    print(f\"> Code Change: +{lines_added} / -{lines_deleted}, {files_changed} files, \"\n",
        "          f\"Entropy={entropy}, Author Exp={author_exp}\")\n",
        "\n",
        "    risk = predict_risk_real(lines_added, lines_deleted, files_changed, entropy, author_exp)\n",
        "    print(f\"> Predicted Rollback Risk Score: {risk}\")\n",
        "\n",
        "    if risk > 0.7:\n",
        "        print(\"High pre-deployment risk. Deployment blocked.\")\n",
        "        return\n",
        "\n",
        "    print(\"Deployment executed. Monitoring metrics...\")\n",
        "    anomalies = monitor_post_deploy(error_rate, latency, crash)\n",
        "\n",
        "    if anomalies:\n",
        "        print(f\"Detected Anomalies: {anomalies}\")\n",
        "    else:\n",
        "        print(\"No anomalies found.\")\n",
        "\n",
        "    decision = decide_rollback(risk, anomalies)\n",
        "    print(f\"Final Decision: {decision}\")\n"
      ],
      "metadata": {
        "id": "2j5QhaRSXb46"
      },
      "execution_count": 30,
      "outputs": []
    },
    {
      "cell_type": "markdown",
      "source": [
        "**Step 8: Full Deployment Simulation**  \n",
        "This function simulates a real-world software deployment scenario from start to finish. It combines all previous steps — prediction, monitoring, and rollback decision — into one cohesive pipeline.\n",
        "\n",
        "The process includes:\n",
        "1. **Displaying deployment details**: Shows the code changes and author’s experience.\n",
        "2. **Predicting rollback risk**: Uses the trained machine learning model to assess how risky the deployment is.\n",
        "3. **Early rollback trigger**: If the predicted risk score is greater than 0.7, the deployment is blocked before it happens.\n",
        "4. **Simulating deployment monitoring**: After a successful deployment, it checks for real-time anomalies like high error rate, latency, or crash rate.\n",
        "5. **Making the final decision**: Based on both prediction and monitoring, it prints the final outcome — whether to proceed or roll back.\n",
        "\n",
        "This simulation provides a practical view of how AI can support automated, intelligent decisions in real-world deployment pipelines.\n"
      ],
      "metadata": {
        "id": "07Iuw6cogqNA"
      }
    },
    {
      "cell_type": "code",
      "source": [
        "simulate_deployment_real(\n",
        "    lines_added=150,\n",
        "    lines_deleted=30,\n",
        "    files_changed=4,\n",
        "    entropy=2.1,\n",
        "    author_exp=45,\n",
        "    error_rate=0.03,\n",
        "    latency=650,\n",
        "    crash=0.01\n",
        ")\n",
        "\n",
        "\n"
      ],
      "metadata": {
        "colab": {
          "base_uri": "https://localhost:8080/"
        },
        "id": "yvQcxNmZXb7B",
        "outputId": "788b4016-d1e5-4d6b-af6f-eef803a1f4fc"
      },
      "execution_count": 31,
      "outputs": [
        {
          "output_type": "stream",
          "name": "stdout",
          "text": [
            "Starting deployment simulation...\n",
            "> Code Change: +150 / -30, 4 files, Entropy=2.1, Author Exp=45\n",
            "> Predicted Rollback Risk Score: 0.56\n",
            "Deployment executed. Monitoring metrics...\n",
            "Detected Anomalies: ['Latency spike']\n",
            "Final Decision: Issues detected: ['Latency spike']. Rollback triggered.\n"
          ]
        }
      ]
    },
    {
      "cell_type": "markdown",
      "source": [
        "In this final cell, I simulated a real deployment using sample input values like number of lines changed, files modified, and author experience. The model predicted a rollback risk score of 0.56, which is below the threshold, so the deployment was allowed to proceed. However, during post-deployment monitoring, a latency spike was detected (latency = 650 ms > 500 ms threshold), so the system automatically triggered a rollback. This shows that the solution combines ML-based prediction and real-time metric checks to make safe deployment decisions."
      ],
      "metadata": {
        "id": "vBRIrkiUhiPt"
      }
    }
  ]
}